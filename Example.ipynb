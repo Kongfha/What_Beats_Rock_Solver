{
 "cells": [
  {
   "cell_type": "code",
   "execution_count": 1,
   "metadata": {},
   "outputs": [
    {
     "name": "stdout",
     "output_type": "stream",
     "text": [
      "/Users/kongfha/miniconda3/envs/work39/lib/python3.9/site-packages/pandas/core/arrays/masked.py:60: UserWarning: Pandas requires version '1.3.6' or newer of 'bottleneck' (version '1.3.5' currently installed).\n",
      "  from pandas.core import (\n",
      "Total vocabulary loaded: 1641\n",
      "Unknown error testing rock -> initial\n",
      "Chain failed at 'rock' with 'initial' winning.\n",
      "Chain has only 'rock'. Trying another candidate...\n",
      "Chain extended: rock -> everybody\n",
      "Chain extended: rock -> everybody -> contest\n",
      "Chain extended: rock -> everybody -> contest -> sand\n",
      "Chain extended: rock -> everybody -> contest -> sand -> link\n",
      "Chain extended: rock -> everybody -> contest -> sand -> link -> ladder\n",
      "Chain extended: rock -> everybody -> contest -> sand -> link -> ladder -> highway\n",
      "Unknown error testing highway -> pull\n",
      "Chain failed at 'highway' with 'pull' winning.\n",
      "Current chain: rock -> everybody -> contest -> sand -> link -> ladder -> highway\n",
      "Trying to fallback to node 'highway'...\n",
      "Falling back to node 'highway' that can beat rock.\n",
      "Chain extended: rock -> everybody -> contest -> sand -> link -> ladder -> highway -> bottom\n",
      "Chain extended: rock -> everybody -> contest -> sand -> link -> ladder -> highway -> bottom -> drop\n",
      "Chain extended: rock -> everybody -> contest -> sand -> link -> ladder -> highway -> bottom -> drop -> god\n",
      "Reached threshold of 10 with chain length 10.\n",
      "\n",
      "=== Final Chain ===\n",
      "rock -> everybody -> contest -> sand -> link -> ladder -> highway -> bottom -> drop -> god\n",
      "Length: 10\n"
     ]
    }
   ],
   "source": [
    "!python main.py --threshold 10"
   ]
  },
  {
   "cell_type": "code",
   "execution_count": null,
   "metadata": {},
   "outputs": [],
   "source": []
  }
 ],
 "metadata": {
  "kernelspec": {
   "display_name": "work39",
   "language": "python",
   "name": "python3"
  },
  "language_info": {
   "codemirror_mode": {
    "name": "ipython",
    "version": 3
   },
   "file_extension": ".py",
   "mimetype": "text/x-python",
   "name": "python",
   "nbconvert_exporter": "python",
   "pygments_lexer": "ipython3",
   "version": "3.9.16"
  }
 },
 "nbformat": 4,
 "nbformat_minor": 2
}
